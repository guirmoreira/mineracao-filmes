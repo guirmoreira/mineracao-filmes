{
 "cells": [
  {
   "cell_type": "code",
   "execution_count": 1,
   "metadata": {},
   "outputs": [],
   "source": [
    "import main\n",
    "import scrap_boxoffice as sb"
   ]
  },
  {
   "cell_type": "code",
   "execution_count": 6,
   "metadata": {},
   "outputs": [
    {
     "name": "stderr",
     "output_type": "stream",
     "text": [
      "/Users/guilhermemoreira/git/mineracao-filmes/main.py:9: DtypeWarning: Columns (4) have mixed types. Specify dtype option on import or set low_memory=False.\n",
      "  df = pd.read_csv(file_path, sep='\\t')\n"
     ]
    },
    {
     "name": "stdout",
     "output_type": "stream",
     "text": [
      "11574370 linhas carregadas do arquivo title.basics.tsv\n",
      "      tconst titleType            primaryTitle           originalTitle  \\\n",
      "0  tt0000001     short              Carmencita              Carmencita   \n",
      "1  tt0000002     short  Le clown et ses chiens  Le clown et ses chiens   \n",
      "2  tt0000003     short            Poor Pierrot          Pauvre Pierrot   \n",
      "3  tt0000004     short             Un bon bock             Un bon bock   \n",
      "4  tt0000005     short        Blacksmith Scene        Blacksmith Scene   \n",
      "\n",
      "  isAdult startYear endYear runtimeMinutes                    genres  \n",
      "0       0      1894      \\N              1         Documentary,Short  \n",
      "1       0      1892      \\N              5           Animation,Short  \n",
      "2       0      1892      \\N              5  Animation,Comedy,Romance  \n",
      "3       0      1892      \\N             12           Animation,Short  \n",
      "4       0      1893      \\N              1                     Short  \n",
      "Filmes: 711500 linhas filtradas\n",
      "Filmes não adultos: 711475 linhas filtradas\n",
      "Filmes após 1970: 544760 linhas filtradas\n",
      "          tconst titleType                 primaryTitle  \\\n",
      "11631  tt0011801     movie             Tötet nicht mehr   \n",
      "15479  tt0015724     movie                Dama de noche   \n",
      "34794  tt0035423     movie               Kate & Leopold   \n",
      "35957  tt0036606     movie  Another Time, Another Place   \n",
      "37409  tt0038086     movie    Shiva und die Galgenblume   \n",
      "\n",
      "                     originalTitle isAdult startYear endYear runtimeMinutes  \\\n",
      "11631             Tötet nicht mehr       0      2019      \\N             \\N   \n",
      "15479                Dama de noche       0      1993      \\N            102   \n",
      "34794               Kate & Leopold       0      2001      \\N            118   \n",
      "35957  Another Time, Another Place       0      1983      \\N            118   \n",
      "37409    Shiva und die Galgenblume       0      1993      \\N             \\N   \n",
      "\n",
      "                       genres  \n",
      "11631            Action,Crime  \n",
      "15479   Drama,Mystery,Romance  \n",
      "34794  Comedy,Fantasy,Romance  \n",
      "35957               Drama,War  \n",
      "37409                Thriller  \n",
      "1555342 linhas carregadas do arquivo title.ratings.tsv\n",
      "      tconst  averageRating  numVotes\n",
      "0  tt0000001            5.7      2146\n",
      "1  tt0000002            5.5       291\n",
      "2  tt0000003            6.5      2180\n",
      "3  tt0000004            5.3       187\n",
      "4  tt0000005            6.2      2924\n",
      "   index     tconst titleType        primaryTitle       originalTitle isAdult  \\\n",
      "0      2  tt0035423     movie      Kate & Leopold      Kate & Leopold       0   \n",
      "1    135  tt0078935     movie  Cannibal Holocaust  Cannibal Holocaust       0   \n",
      "2    323  tt0080339     movie           Airplane!           Airplane!       0   \n",
      "3    396  tt0080453     movie     The Blue Lagoon     The Blue Lagoon       0   \n",
      "4    398  tt0080455     movie  The Blues Brothers  The Blues Brothers       0   \n",
      "\n",
      "  startYear endYear runtimeMinutes                   genres  averageRating  \\\n",
      "0      2001      \\N            118   Comedy,Fantasy,Romance            6.4   \n",
      "1      1980      \\N             95         Adventure,Horror            5.8   \n",
      "2      1980      \\N             88                   Comedy            7.7   \n",
      "3      1980      \\N            104  Adventure,Drama,Romance            5.8   \n",
      "4      1980      \\N            133   Adventure,Comedy,Crime            7.9   \n",
      "\n",
      "   numVotes  \n",
      "0   91568.0  \n",
      "1   64130.0  \n",
      "2  272408.0  \n",
      "3   80021.0  \n",
      "4  221274.0  \n",
      "4070\n"
     ]
    }
   ],
   "source": [
    "df_movies = main.load_tsv_data(\"title.basics.tsv\")\n",
    "df_movies = main.filter_movies_after_year(df_movies, 1980)\n",
    "df_ratings = main.load_tsv_data(\"title.ratings.tsv\")\n",
    "df_w_ratings = df_movies.merge(df_ratings, on='tconst', how='left')\n",
    "df = main.filter_most_rated(df_w_ratings, 50000)\n",
    "print(len(df))"
   ]
  },
  {
   "cell_type": "code",
   "execution_count": 7,
   "metadata": {},
   "outputs": [
    {
     "data": {
      "text/plain": [
       "count    4.070000e+03\n",
       "mean     2.046358e+05\n",
       "std      2.461848e+05\n",
       "min      5.001300e+04\n",
       "25%      7.396625e+04\n",
       "50%      1.176565e+05\n",
       "75%      2.265220e+05\n",
       "max      3.028930e+06\n",
       "Name: numVotes, dtype: float64"
      ]
     },
     "execution_count": 7,
     "metadata": {},
     "output_type": "execute_result"
    }
   ],
   "source": [
    "df['numVotes'].describe()"
   ]
  },
  {
   "cell_type": "code",
   "execution_count": 10,
   "metadata": {},
   "outputs": [
    {
     "name": "stdout",
     "output_type": "stream",
     "text": [
      "Kate & Leopold\n"
     ]
    },
    {
     "name": "stderr",
     "output_type": "stream",
     "text": [
      "INFO:scrap_boxoffice:Acessando URL: https://www.the-numbers.com/search?searchterm=Kate+and+Leopold#tab=summary\n"
     ]
    },
    {
     "name": "stdout",
     "output_type": "stream",
     "text": [
      "\tOMDB: info coletada\n"
     ]
    },
    {
     "name": "stderr",
     "output_type": "stream",
     "text": [
      "WARNING:scrap_boxoffice:Tabela financeira não encontrada.\n",
      "INFO:scrap_boxoffice:Tentando encontrar na página de busca.\n",
      "INFO:scrap_boxoffice:Resultados de busca encontrados.\n",
      "INFO:scrap_boxoffice:Acessando URL: https://www.the-numbers.com//movie/Kate-and-Leopold-(2001)#tab=summary\n"
     ]
    },
    {
     "name": "stdout",
     "output_type": "stream",
     "text": [
      "\tFinancial: info coletada\n",
      "Cannibal Holocaust\n"
     ]
    },
    {
     "name": "stderr",
     "output_type": "stream",
     "text": [
      "INFO:scrap_boxoffice:Acessando URL: https://www.the-numbers.com/search?searchterm=Cannibal+Holocaust#tab=summary\n"
     ]
    },
    {
     "name": "stdout",
     "output_type": "stream",
     "text": [
      "\tOMDB: info coletada\n"
     ]
    },
    {
     "name": "stderr",
     "output_type": "stream",
     "text": [
      "WARNING:scrap_boxoffice:Tabela financeira não encontrada.\n",
      "INFO:scrap_boxoffice:Tentando encontrar na página de busca.\n",
      "INFO:scrap_boxoffice:Resultados de busca encontrados.\n",
      "INFO:scrap_boxoffice:Acessando URL: https://www.the-numbers.com//movie/Cannibal-Holocaust#tab=summary\n"
     ]
    },
    {
     "name": "stdout",
     "output_type": "stream",
     "text": [
      "\tFinancial: info coletada\n",
      "Airplane!\n"
     ]
    },
    {
     "name": "stderr",
     "output_type": "stream",
     "text": [
      "INFO:scrap_boxoffice:Acessando URL: https://www.the-numbers.com/search?searchterm=Airplane#tab=summary\n"
     ]
    },
    {
     "name": "stdout",
     "output_type": "stream",
     "text": [
      "\tOMDB: info coletada\n"
     ]
    },
    {
     "name": "stderr",
     "output_type": "stream",
     "text": [
      "WARNING:scrap_boxoffice:Tabela financeira não encontrada.\n",
      "INFO:scrap_boxoffice:Tentando encontrar na página de busca.\n",
      "INFO:scrap_boxoffice:Resultados de busca encontrados.\n",
      "INFO:scrap_boxoffice:Acessando URL: https://www.the-numbers.com//movie/Airplane#tab=summary\n"
     ]
    },
    {
     "name": "stdout",
     "output_type": "stream",
     "text": [
      "\tFinancial: info coletada\n",
      "The Blue Lagoon\n"
     ]
    },
    {
     "name": "stderr",
     "output_type": "stream",
     "text": [
      "INFO:scrap_boxoffice:Acessando URL: https://www.the-numbers.com/search?searchterm=The+Blue+Lagoon#tab=summary\n"
     ]
    },
    {
     "name": "stdout",
     "output_type": "stream",
     "text": [
      "\tOMDB: info coletada\n"
     ]
    },
    {
     "name": "stderr",
     "output_type": "stream",
     "text": [
      "WARNING:scrap_boxoffice:Tabela financeira não encontrada.\n",
      "INFO:scrap_boxoffice:Tentando encontrar na página de busca.\n",
      "INFO:scrap_boxoffice:Resultados de busca encontrados.\n",
      "INFO:scrap_boxoffice:Acessando URL: https://www.the-numbers.com//movie/Blue-Lagoon-The-(1980)#tab=summary\n"
     ]
    },
    {
     "name": "stdout",
     "output_type": "stream",
     "text": [
      "\tFinancial: info coletada\n",
      "The Blues Brothers\n"
     ]
    },
    {
     "name": "stderr",
     "output_type": "stream",
     "text": [
      "INFO:scrap_boxoffice:Acessando URL: https://www.the-numbers.com/search?searchterm=The+Blues+Brothers#tab=summary\n"
     ]
    },
    {
     "name": "stdout",
     "output_type": "stream",
     "text": [
      "\tOMDB: info coletada\n"
     ]
    },
    {
     "name": "stderr",
     "output_type": "stream",
     "text": [
      "WARNING:scrap_boxoffice:Tabela financeira não encontrada.\n",
      "INFO:scrap_boxoffice:Tentando encontrar na página de busca.\n",
      "INFO:scrap_boxoffice:Resultados de busca encontrados.\n",
      "INFO:scrap_boxoffice:Acessando URL: https://www.the-numbers.com//movie/Blues-Brothers-The#tab=summary\n"
     ]
    },
    {
     "name": "stdout",
     "output_type": "stream",
     "text": [
      "\tFinancial: info coletada\n"
     ]
    }
   ],
   "source": [
    "teste = df.head().copy()\n",
    "\n",
    "def insert(db, column, index, value, prefix=None):\n",
    "    if prefix:\n",
    "        column = f\"{prefix}_{column}\"\n",
    "    # Adicione a coluna se ela ainda não existir\n",
    "    if column not in db.columns:\n",
    "        db[column] = None\n",
    "    # Defina o valor para este filme específico\n",
    "    db.at[index, column] = value\n",
    "\n",
    "for index, item in teste.iterrows():\n",
    "    print(item['originalTitle'])\n",
    "\n",
    "    # Coletando dados do OMDB\n",
    "    omdb_info = main.get_movie_info_from_omdb(item['tconst'])\n",
    "    if omdb_info:\n",
    "        for k, v in omdb_info.items():\n",
    "            insert(teste, k, index, v, prefix=\"omdb\")\n",
    "        print(\"\\tOMDB: info coletada\")\n",
    "    else:\n",
    "        print(\"\\tOMDB: nenhum dado retornado\")\n",
    "    \n",
    "    # Coletando dados financeiros\n",
    "    title = item['originalTitle'].replace(\"&\", \"and\")\n",
    "    title = title.replace(\"'\", \"\")\n",
    "    title = title.replace(\"!\", \"\")\n",
    "    title = title.replace(\":\", \"\")\n",
    "    title = title.replace(\",\", \"\")\n",
    "    title = title.replace(\"?\", \"\")\n",
    "\n",
    "    url = sb.get_url_title(title)\n",
    "    financial_data = sb.fetch_movie_financials(url)\n",
    "    if financial_data:\n",
    "        for k, v in financial_data.items():\n",
    "            insert(teste, k, index, v, prefix=\"box_office\")\n",
    "        print(\"\\tFinancial: info coletada\")\n",
    "    else:\n",
    "        print(\"\\tFinancial: nenhum dado retornado\")\n"
   ]
  },
  {
   "cell_type": "code",
   "execution_count": 11,
   "metadata": {},
   "outputs": [
    {
     "data": {
      "text/html": [
       "<div>\n",
       "<style scoped>\n",
       "    .dataframe tbody tr th:only-of-type {\n",
       "        vertical-align: middle;\n",
       "    }\n",
       "\n",
       "    .dataframe tbody tr th {\n",
       "        vertical-align: top;\n",
       "    }\n",
       "\n",
       "    .dataframe thead th {\n",
       "        text-align: right;\n",
       "    }\n",
       "</style>\n",
       "<table border=\"1\" class=\"dataframe\">\n",
       "  <thead>\n",
       "    <tr style=\"text-align: right;\">\n",
       "      <th></th>\n",
       "      <th>index</th>\n",
       "      <th>tconst</th>\n",
       "      <th>titleType</th>\n",
       "      <th>primaryTitle</th>\n",
       "      <th>originalTitle</th>\n",
       "      <th>isAdult</th>\n",
       "      <th>startYear</th>\n",
       "      <th>endYear</th>\n",
       "      <th>runtimeMinutes</th>\n",
       "      <th>genres</th>\n",
       "      <th>...</th>\n",
       "      <th>omdb_Response</th>\n",
       "      <th>box_office_Domestic Box Office</th>\n",
       "      <th>box_office_International Box Office</th>\n",
       "      <th>box_office_Worldwide Box Office</th>\n",
       "      <th>box_office_Opening Weekend:</th>\n",
       "      <th>box_office_Legs:</th>\n",
       "      <th>box_office_Domestic Share:</th>\n",
       "      <th>box_office_Production Budget:</th>\n",
       "      <th>box_office_Theater counts:</th>\n",
       "      <th>box_office_Infl. Adj. Dom. BO</th>\n",
       "    </tr>\n",
       "  </thead>\n",
       "  <tbody>\n",
       "    <tr>\n",
       "      <th>0</th>\n",
       "      <td>2</td>\n",
       "      <td>tt0035423</td>\n",
       "      <td>movie</td>\n",
       "      <td>Kate &amp; Leopold</td>\n",
       "      <td>Kate &amp; Leopold</td>\n",
       "      <td>0</td>\n",
       "      <td>2001</td>\n",
       "      <td>\\N</td>\n",
       "      <td>118</td>\n",
       "      <td>Comedy,Fantasy,Romance</td>\n",
       "      <td>...</td>\n",
       "      <td>True</td>\n",
       "      <td>$47,095,453</td>\n",
       "      <td>$23,842,325</td>\n",
       "      <td>$70,937,778</td>\n",
       "      <td>$9,725,408 (20.7% of total gross)</td>\n",
       "      <td>4.84 (domestic box office/biggest weekend)</td>\n",
       "      <td>66.4% (domestic box office/worldwide)</td>\n",
       "      <td>$48,000,000 (worldwide box office is 1.5 times...</td>\n",
       "      <td>2,459 opening theaters/2,467 max. theaters, 5....</td>\n",
       "      <td>$93,256,073</td>\n",
       "    </tr>\n",
       "    <tr>\n",
       "      <th>1</th>\n",
       "      <td>135</td>\n",
       "      <td>tt0078935</td>\n",
       "      <td>movie</td>\n",
       "      <td>Cannibal Holocaust</td>\n",
       "      <td>Cannibal Holocaust</td>\n",
       "      <td>0</td>\n",
       "      <td>1980</td>\n",
       "      <td>\\N</td>\n",
       "      <td>95</td>\n",
       "      <td>Adventure,Horror</td>\n",
       "      <td>...</td>\n",
       "      <td>True</td>\n",
       "      <td>n/a</td>\n",
       "      <td>None</td>\n",
       "      <td>None</td>\n",
       "      <td>None</td>\n",
       "      <td>None</td>\n",
       "      <td>None</td>\n",
       "      <td>None</td>\n",
       "      <td>None</td>\n",
       "      <td>None</td>\n",
       "    </tr>\n",
       "    <tr>\n",
       "      <th>2</th>\n",
       "      <td>323</td>\n",
       "      <td>tt0080339</td>\n",
       "      <td>movie</td>\n",
       "      <td>Airplane!</td>\n",
       "      <td>Airplane!</td>\n",
       "      <td>0</td>\n",
       "      <td>1980</td>\n",
       "      <td>\\N</td>\n",
       "      <td>88</td>\n",
       "      <td>Comedy</td>\n",
       "      <td>...</td>\n",
       "      <td>True</td>\n",
       "      <td>$83,453,539</td>\n",
       "      <td>$768</td>\n",
       "      <td>$83,454,307</td>\n",
       "      <td>None</td>\n",
       "      <td>None</td>\n",
       "      <td>100.0% (domestic box office/worldwide)</td>\n",
       "      <td>$3,500,000 (worldwide box office is 23.8 times...</td>\n",
       "      <td>None</td>\n",
       "      <td>$350,877,142</td>\n",
       "    </tr>\n",
       "    <tr>\n",
       "      <th>3</th>\n",
       "      <td>396</td>\n",
       "      <td>tt0080453</td>\n",
       "      <td>movie</td>\n",
       "      <td>The Blue Lagoon</td>\n",
       "      <td>The Blue Lagoon</td>\n",
       "      <td>0</td>\n",
       "      <td>1980</td>\n",
       "      <td>\\N</td>\n",
       "      <td>104</td>\n",
       "      <td>Adventure,Drama,Romance</td>\n",
       "      <td>...</td>\n",
       "      <td>True</td>\n",
       "      <td>$47,923,795</td>\n",
       "      <td>None</td>\n",
       "      <td>None</td>\n",
       "      <td>None</td>\n",
       "      <td>174.24 (domestic box office/biggest weekend)</td>\n",
       "      <td>100.0% (domestic box office/worldwide)</td>\n",
       "      <td>$4,500,000 (worldwide box office is 10.6 times...</td>\n",
       "      <td>None</td>\n",
       "      <td>$201,493,723</td>\n",
       "    </tr>\n",
       "    <tr>\n",
       "      <th>4</th>\n",
       "      <td>398</td>\n",
       "      <td>tt0080455</td>\n",
       "      <td>movie</td>\n",
       "      <td>The Blues Brothers</td>\n",
       "      <td>The Blues Brothers</td>\n",
       "      <td>0</td>\n",
       "      <td>1980</td>\n",
       "      <td>\\N</td>\n",
       "      <td>133</td>\n",
       "      <td>Adventure,Comedy,Crime</td>\n",
       "      <td>...</td>\n",
       "      <td>True</td>\n",
       "      <td>$57,229,890</td>\n",
       "      <td>$16,570</td>\n",
       "      <td>$57,246,460</td>\n",
       "      <td>$4,858,152 (8.5% of total gross)</td>\n",
       "      <td>11.78 (domestic box office/biggest weekend)</td>\n",
       "      <td>100.0% (domestic box office/worldwide)</td>\n",
       "      <td>$27,000,000 (worldwide box office is 2.1 times...</td>\n",
       "      <td>594 opening theaters/594 max. theaters, 1.0 we...</td>\n",
       "      <td>$240,620,838</td>\n",
       "    </tr>\n",
       "  </tbody>\n",
       "</table>\n",
       "<p>5 rows × 46 columns</p>\n",
       "</div>"
      ],
      "text/plain": [
       "   index     tconst titleType        primaryTitle       originalTitle isAdult  \\\n",
       "0      2  tt0035423     movie      Kate & Leopold      Kate & Leopold       0   \n",
       "1    135  tt0078935     movie  Cannibal Holocaust  Cannibal Holocaust       0   \n",
       "2    323  tt0080339     movie           Airplane!           Airplane!       0   \n",
       "3    396  tt0080453     movie     The Blue Lagoon     The Blue Lagoon       0   \n",
       "4    398  tt0080455     movie  The Blues Brothers  The Blues Brothers       0   \n",
       "\n",
       "  startYear endYear runtimeMinutes                   genres  ...  \\\n",
       "0      2001      \\N            118   Comedy,Fantasy,Romance  ...   \n",
       "1      1980      \\N             95         Adventure,Horror  ...   \n",
       "2      1980      \\N             88                   Comedy  ...   \n",
       "3      1980      \\N            104  Adventure,Drama,Romance  ...   \n",
       "4      1980      \\N            133   Adventure,Comedy,Crime  ...   \n",
       "\n",
       "   omdb_Response  box_office_Domestic Box Office  \\\n",
       "0           True                     $47,095,453   \n",
       "1           True                             n/a   \n",
       "2           True                     $83,453,539   \n",
       "3           True                     $47,923,795   \n",
       "4           True                     $57,229,890   \n",
       "\n",
       "  box_office_International Box Office box_office_Worldwide Box Office  \\\n",
       "0                         $23,842,325                     $70,937,778   \n",
       "1                                None                            None   \n",
       "2                                $768                     $83,454,307   \n",
       "3                                None                            None   \n",
       "4                             $16,570                     $57,246,460   \n",
       "\n",
       "         box_office_Opening Weekend:  \\\n",
       "0  $9,725,408 (20.7% of total gross)   \n",
       "1                               None   \n",
       "2                               None   \n",
       "3                               None   \n",
       "4   $4,858,152 (8.5% of total gross)   \n",
       "\n",
       "                               box_office_Legs:  \\\n",
       "0    4.84 (domestic box office/biggest weekend)   \n",
       "1                                          None   \n",
       "2                                          None   \n",
       "3  174.24 (domestic box office/biggest weekend)   \n",
       "4   11.78 (domestic box office/biggest weekend)   \n",
       "\n",
       "               box_office_Domestic Share:  \\\n",
       "0   66.4% (domestic box office/worldwide)   \n",
       "1                                    None   \n",
       "2  100.0% (domestic box office/worldwide)   \n",
       "3  100.0% (domestic box office/worldwide)   \n",
       "4  100.0% (domestic box office/worldwide)   \n",
       "\n",
       "                       box_office_Production Budget:  \\\n",
       "0  $48,000,000 (worldwide box office is 1.5 times...   \n",
       "1                                               None   \n",
       "2  $3,500,000 (worldwide box office is 23.8 times...   \n",
       "3  $4,500,000 (worldwide box office is 10.6 times...   \n",
       "4  $27,000,000 (worldwide box office is 2.1 times...   \n",
       "\n",
       "                          box_office_Theater counts:  \\\n",
       "0  2,459 opening theaters/2,467 max. theaters, 5....   \n",
       "1                                               None   \n",
       "2                                               None   \n",
       "3                                               None   \n",
       "4  594 opening theaters/594 max. theaters, 1.0 we...   \n",
       "\n",
       "  box_office_Infl. Adj. Dom. BO  \n",
       "0                   $93,256,073  \n",
       "1                          None  \n",
       "2                  $350,877,142  \n",
       "3                  $201,493,723  \n",
       "4                  $240,620,838  \n",
       "\n",
       "[5 rows x 46 columns]"
      ]
     },
     "execution_count": 11,
     "metadata": {},
     "output_type": "execute_result"
    }
   ],
   "source": [
    "teste.to_csv(\"teste.csv\", sep=\";\", index=False)\n",
    "\n",
    "teste.head()"
   ]
  },
  {
   "cell_type": "code",
   "execution_count": 14,
   "metadata": {},
   "outputs": [
    {
     "name": "stderr",
     "output_type": "stream",
     "text": [
      "  0% (0 of 100) |                        | Elapsed Time: 0:00:00 ETA:  --:--:--\n",
      "  1% (1 of 100) |                        | Elapsed Time: 0:00:00 ETA:   0:00:10\n",
      "  2% (2 of 100) |                        | Elapsed Time: 0:00:00 ETA:   0:00:10\n",
      "  3% (3 of 100) |                        | Elapsed Time: 0:00:00 ETA:   0:00:10\n",
      "  4% (4 of 100) |                        | Elapsed Time: 0:00:00 ETA:   0:00:10\n",
      "  5% (5 of 100) |#                       | Elapsed Time: 0:00:00 ETA:   0:00:10\n",
      "  6% (6 of 100) |#                       | Elapsed Time: 0:00:00 ETA:   0:00:09\n",
      "  7% (7 of 100) |#                       | Elapsed Time: 0:00:00 ETA:   0:00:09\n",
      "  8% (8 of 100) |#                       | Elapsed Time: 0:00:00 ETA:   0:00:09\n",
      "  9% (9 of 100) |##                      | Elapsed Time: 0:00:00 ETA:   0:00:09\n",
      " 10% (10 of 100) |##                     | Elapsed Time: 0:00:01 ETA:   0:00:09\n",
      " 11% (11 of 100) |##                     | Elapsed Time: 0:00:01 ETA:   0:00:09\n",
      " 12% (12 of 100) |##                     | Elapsed Time: 0:00:01 ETA:   0:00:09\n",
      " 13% (13 of 100) |##                     | Elapsed Time: 0:00:01 ETA:   0:00:09\n",
      " 14% (14 of 100) |###                    | Elapsed Time: 0:00:01 ETA:   0:00:09\n",
      " 15% (15 of 100) |###                    | Elapsed Time: 0:00:01 ETA:   0:00:08\n",
      " 16% (16 of 100) |###                    | Elapsed Time: 0:00:01 ETA:   0:00:08\n",
      " 17% (17 of 100) |###                    | Elapsed Time: 0:00:01 ETA:   0:00:08\n",
      " 18% (18 of 100) |####                   | Elapsed Time: 0:00:01 ETA:   0:00:08\n",
      " 19% (19 of 100) |####                   | Elapsed Time: 0:00:02 ETA:   0:00:08\n",
      " 20% (20 of 100) |####                   | Elapsed Time: 0:00:02 ETA:   0:00:08\n",
      " 21% (21 of 100) |####                   | Elapsed Time: 0:00:02 ETA:   0:00:08\n",
      " 22% (22 of 100) |#####                  | Elapsed Time: 0:00:02 ETA:   0:00:08\n",
      " 23% (23 of 100) |#####                  | Elapsed Time: 0:00:02 ETA:   0:00:08\n",
      " 24% (24 of 100) |#####                  | Elapsed Time: 0:00:02 ETA:   0:00:08\n",
      " 25% (25 of 100) |#####                  | Elapsed Time: 0:00:02 ETA:   0:00:07\n",
      " 26% (26 of 100) |#####                  | Elapsed Time: 0:00:02 ETA:   0:00:07\n",
      " 27% (27 of 100) |######                 | Elapsed Time: 0:00:02 ETA:   0:00:07\n",
      " 28% (28 of 100) |######                 | Elapsed Time: 0:00:02 ETA:   0:00:07\n",
      " 29% (29 of 100) |######                 | Elapsed Time: 0:00:03 ETA:   0:00:07\n",
      " 30% (30 of 100) |######                 | Elapsed Time: 0:00:03 ETA:   0:00:07\n",
      " 31% (31 of 100) |#######                | Elapsed Time: 0:00:03 ETA:   0:00:07\n",
      " 32% (32 of 100) |#######                | Elapsed Time: 0:00:03 ETA:   0:00:07\n",
      " 33% (33 of 100) |#######                | Elapsed Time: 0:00:03 ETA:   0:00:07\n",
      " 34% (34 of 100) |#######                | Elapsed Time: 0:00:03 ETA:   0:00:06\n",
      " 35% (35 of 100) |########               | Elapsed Time: 0:00:03 ETA:   0:00:06\n",
      " 36% (36 of 100) |########               | Elapsed Time: 0:00:03 ETA:   0:00:06\n",
      " 37% (37 of 100) |########               | Elapsed Time: 0:00:03 ETA:   0:00:06\n",
      " 38% (38 of 100) |########               | Elapsed Time: 0:00:04 ETA:   0:00:06\n",
      " 39% (39 of 100) |########               | Elapsed Time: 0:00:04 ETA:   0:00:06\n",
      " 40% (40 of 100) |#########              | Elapsed Time: 0:00:04 ETA:   0:00:06\n",
      " 41% (41 of 100) |#########              | Elapsed Time: 0:00:04 ETA:   0:00:06\n",
      " 42% (42 of 100) |#########              | Elapsed Time: 0:00:04 ETA:   0:00:06\n",
      " 43% (43 of 100) |#########              | Elapsed Time: 0:00:04 ETA:   0:00:06\n",
      " 44% (44 of 100) |##########             | Elapsed Time: 0:00:04 ETA:   0:00:05\n",
      " 45% (45 of 100) |##########             | Elapsed Time: 0:00:04 ETA:   0:00:05\n",
      " 46% (46 of 100) |##########             | Elapsed Time: 0:00:04 ETA:   0:00:05\n",
      " 47% (47 of 100) |##########             | Elapsed Time: 0:00:04 ETA:   0:00:05\n",
      " 48% (48 of 100) |###########            | Elapsed Time: 0:00:05 ETA:   0:00:05\n",
      " 49% (49 of 100) |###########            | Elapsed Time: 0:00:05 ETA:   0:00:05\n",
      " 50% (50 of 100) |###########            | Elapsed Time: 0:00:05 ETA:   0:00:05\n",
      " 51% (51 of 100) |###########            | Elapsed Time: 0:00:05 ETA:   0:00:05\n",
      " 52% (52 of 100) |###########            | Elapsed Time: 0:00:05 ETA:   0:00:05\n",
      " 53% (53 of 100) |############           | Elapsed Time: 0:00:05 ETA:   0:00:04\n",
      " 54% (54 of 100) |############           | Elapsed Time: 0:00:05 ETA:   0:00:04\n",
      " 55% (55 of 100) |############           | Elapsed Time: 0:00:05 ETA:   0:00:04\n",
      " 56% (56 of 100) |############           | Elapsed Time: 0:00:05 ETA:   0:00:04\n",
      " 57% (57 of 100) |#############          | Elapsed Time: 0:00:06 ETA:   0:00:04\n",
      " 58% (58 of 100) |#############          | Elapsed Time: 0:00:06 ETA:   0:00:04\n",
      " 59% (59 of 100) |#############          | Elapsed Time: 0:00:06 ETA:   0:00:04\n",
      " 60% (60 of 100) |#############          | Elapsed Time: 0:00:06 ETA:   0:00:04\n",
      " 61% (61 of 100) |##############         | Elapsed Time: 0:00:06 ETA:   0:00:04\n",
      " 62% (62 of 100) |##############         | Elapsed Time: 0:00:06 ETA:   0:00:04\n",
      " 63% (63 of 100) |##############         | Elapsed Time: 0:00:06 ETA:   0:00:03\n",
      " 64% (64 of 100) |##############         | Elapsed Time: 0:00:06 ETA:   0:00:03\n",
      " 65% (65 of 100) |##############         | Elapsed Time: 0:00:06 ETA:   0:00:03\n",
      " 66% (66 of 100) |###############        | Elapsed Time: 0:00:07 ETA:   0:00:03\n",
      " 67% (67 of 100) |###############        | Elapsed Time: 0:00:07 ETA:   0:00:03\n",
      " 68% (68 of 100) |###############        | Elapsed Time: 0:00:07 ETA:   0:00:03\n",
      " 69% (69 of 100) |###############        | Elapsed Time: 0:00:07 ETA:   0:00:03\n",
      " 70% (70 of 100) |################       | Elapsed Time: 0:00:07 ETA:   0:00:03\n",
      " 71% (71 of 100) |################       | Elapsed Time: 0:00:07 ETA:   0:00:03\n",
      " 72% (72 of 100) |################       | Elapsed Time: 0:00:07 ETA:   0:00:02\n",
      " 73% (73 of 100) |################       | Elapsed Time: 0:00:07 ETA:   0:00:02\n",
      " 74% (74 of 100) |#################      | Elapsed Time: 0:00:07 ETA:   0:00:02\n",
      " 75% (75 of 100) |#################      | Elapsed Time: 0:00:08 ETA:   0:00:02\n",
      " 76% (76 of 100) |#################      | Elapsed Time: 0:00:08 ETA:   0:00:02\n",
      " 77% (77 of 100) |#################      | Elapsed Time: 0:00:08 ETA:   0:00:02\n",
      " 78% (78 of 100) |#################      | Elapsed Time: 0:00:08 ETA:   0:00:02\n",
      " 79% (79 of 100) |##################     | Elapsed Time: 0:00:08 ETA:   0:00:02\n",
      " 80% (80 of 100) |##################     | Elapsed Time: 0:00:08 ETA:   0:00:02\n",
      " 81% (81 of 100) |##################     | Elapsed Time: 0:00:08 ETA:   0:00:02\n",
      " 82% (82 of 100) |##################     | Elapsed Time: 0:00:08 ETA:   0:00:01\n",
      " 83% (83 of 100) |###################    | Elapsed Time: 0:00:08 ETA:   0:00:01\n",
      " 84% (84 of 100) |###################    | Elapsed Time: 0:00:08 ETA:   0:00:01\n",
      " 85% (85 of 100) |###################    | Elapsed Time: 0:00:09 ETA:   0:00:01\n",
      " 86% (86 of 100) |###################    | Elapsed Time: 0:00:09 ETA:   0:00:01\n",
      " 87% (87 of 100) |####################   | Elapsed Time: 0:00:09 ETA:   0:00:01\n",
      " 88% (88 of 100) |####################   | Elapsed Time: 0:00:09 ETA:   0:00:01\n",
      " 89% (89 of 100) |####################   | Elapsed Time: 0:00:09 ETA:   0:00:01\n",
      " 90% (90 of 100) |####################   | Elapsed Time: 0:00:09 ETA:   0:00:01\n",
      " 91% (91 of 100) |####################   | Elapsed Time: 0:00:09 ETA:   0:00:00\n",
      " 92% (92 of 100) |#####################  | Elapsed Time: 0:00:09 ETA:   0:00:00\n",
      " 93% (93 of 100) |#####################  | Elapsed Time: 0:00:09 ETA:   0:00:00\n",
      " 94% (94 of 100) |#####################  | Elapsed Time: 0:00:10 ETA:   0:00:00\n",
      " 95% (95 of 100) |#####################  | Elapsed Time: 0:00:10 ETA:   0:00:00\n",
      " 96% (96 of 100) |###################### | Elapsed Time: 0:00:10 ETA:   0:00:00\n",
      " 97% (97 of 100) |###################### | Elapsed Time: 0:00:10 ETA:   0:00:00\n",
      " 98% (98 of 100) |###################### | Elapsed Time: 0:00:10 ETA:   0:00:00\n",
      " 99% (99 of 100) |###################### | Elapsed Time: 0:00:10 ETA:   0:00:00\n",
      "100% (100 of 100) |######################| Elapsed Time: 0:00:10 Time:  0:00:10\n"
     ]
    }
   ],
   "source": [
    "from progressbar import progressbar\n",
    "from time import sleep\n",
    "\n",
    "for i in progressbar(range(100), redirect_stdout=True):\n",
    "    print('Some text', i)\n",
    "    sleep(0.1)"
   ]
  }
 ],
 "metadata": {
  "kernelspec": {
   "display_name": ".venv",
   "language": "python",
   "name": "python3"
  },
  "language_info": {
   "codemirror_mode": {
    "name": "ipython",
    "version": 3
   },
   "file_extension": ".py",
   "mimetype": "text/x-python",
   "name": "python",
   "nbconvert_exporter": "python",
   "pygments_lexer": "ipython3",
   "version": "3.13.0"
  }
 },
 "nbformat": 4,
 "nbformat_minor": 2
}
